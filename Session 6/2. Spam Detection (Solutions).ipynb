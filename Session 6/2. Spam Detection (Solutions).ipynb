{
 "cells": [
  {
   "cell_type": "markdown",
   "metadata": {},
   "source": [
    "We will be using [Spam Detection Dataset](https://www.kaggle.com/uciml/sms-spam-collection-dataset) from Kaggle and build models to predict whether a text is spam or not."
   ]
  },
  {
   "cell_type": "code",
   "execution_count": 1,
   "metadata": {},
   "outputs": [
    {
     "data": {
      "text/html": [
       "<div>\n",
       "<style scoped>\n",
       "    .dataframe tbody tr th:only-of-type {\n",
       "        vertical-align: middle;\n",
       "    }\n",
       "\n",
       "    .dataframe tbody tr th {\n",
       "        vertical-align: top;\n",
       "    }\n",
       "\n",
       "    .dataframe thead th {\n",
       "        text-align: right;\n",
       "    }\n",
       "</style>\n",
       "<table border=\"1\" class=\"dataframe\">\n",
       "  <thead>\n",
       "    <tr style=\"text-align: right;\">\n",
       "      <th></th>\n",
       "      <th>v1</th>\n",
       "      <th>v2</th>\n",
       "      <th>Unnamed: 2</th>\n",
       "      <th>Unnamed: 3</th>\n",
       "      <th>Unnamed: 4</th>\n",
       "    </tr>\n",
       "  </thead>\n",
       "  <tbody>\n",
       "    <tr>\n",
       "      <th>0</th>\n",
       "      <td>ham</td>\n",
       "      <td>Go until jurong point, crazy.. Available only ...</td>\n",
       "      <td>NaN</td>\n",
       "      <td>NaN</td>\n",
       "      <td>NaN</td>\n",
       "    </tr>\n",
       "    <tr>\n",
       "      <th>1</th>\n",
       "      <td>ham</td>\n",
       "      <td>Ok lar... Joking wif u oni...</td>\n",
       "      <td>NaN</td>\n",
       "      <td>NaN</td>\n",
       "      <td>NaN</td>\n",
       "    </tr>\n",
       "    <tr>\n",
       "      <th>2</th>\n",
       "      <td>spam</td>\n",
       "      <td>Free entry in 2 a wkly comp to win FA Cup fina...</td>\n",
       "      <td>NaN</td>\n",
       "      <td>NaN</td>\n",
       "      <td>NaN</td>\n",
       "    </tr>\n",
       "    <tr>\n",
       "      <th>3</th>\n",
       "      <td>ham</td>\n",
       "      <td>U dun say so early hor... U c already then say...</td>\n",
       "      <td>NaN</td>\n",
       "      <td>NaN</td>\n",
       "      <td>NaN</td>\n",
       "    </tr>\n",
       "    <tr>\n",
       "      <th>4</th>\n",
       "      <td>ham</td>\n",
       "      <td>Nah I don't think he goes to usf, he lives aro...</td>\n",
       "      <td>NaN</td>\n",
       "      <td>NaN</td>\n",
       "      <td>NaN</td>\n",
       "    </tr>\n",
       "  </tbody>\n",
       "</table>\n",
       "</div>"
      ],
      "text/plain": [
       "     v1                                                 v2 Unnamed: 2  \\\n",
       "0   ham  Go until jurong point, crazy.. Available only ...        NaN   \n",
       "1   ham                      Ok lar... Joking wif u oni...        NaN   \n",
       "2  spam  Free entry in 2 a wkly comp to win FA Cup fina...        NaN   \n",
       "3   ham  U dun say so early hor... U c already then say...        NaN   \n",
       "4   ham  Nah I don't think he goes to usf, he lives aro...        NaN   \n",
       "\n",
       "  Unnamed: 3 Unnamed: 4  \n",
       "0        NaN        NaN  \n",
       "1        NaN        NaN  \n",
       "2        NaN        NaN  \n",
       "3        NaN        NaN  \n",
       "4        NaN        NaN  "
      ]
     },
     "execution_count": 1,
     "metadata": {},
     "output_type": "execute_result"
    }
   ],
   "source": [
    "import numpy as np\n",
    "import pandas as pd\n",
    "\n",
    "import matplotlib.pyplot as plt\n",
    "%matplotlib inline\n",
    "\n",
    "# from google.colab import files\n",
    "# uploaded = files.upload()\n",
    "\n",
    "df = pd.read_csv(\"https://raw.githubusercontent.com/AashitaK/datasets/main/spam.csv\", encoding=\"latin-1\")\n",
    "df.head()"
   ]
  },
  {
   "cell_type": "code",
   "execution_count": 2,
   "metadata": {},
   "outputs": [
    {
     "data": {
      "text/html": [
       "<div>\n",
       "<style scoped>\n",
       "    .dataframe tbody tr th:only-of-type {\n",
       "        vertical-align: middle;\n",
       "    }\n",
       "\n",
       "    .dataframe tbody tr th {\n",
       "        vertical-align: top;\n",
       "    }\n",
       "\n",
       "    .dataframe thead th {\n",
       "        text-align: right;\n",
       "    }\n",
       "</style>\n",
       "<table border=\"1\" class=\"dataframe\">\n",
       "  <thead>\n",
       "    <tr style=\"text-align: right;\">\n",
       "      <th></th>\n",
       "      <th>label</th>\n",
       "      <th>text</th>\n",
       "    </tr>\n",
       "  </thead>\n",
       "  <tbody>\n",
       "    <tr>\n",
       "      <th>0</th>\n",
       "      <td>ham</td>\n",
       "      <td>Go until jurong point, crazy.. Available only ...</td>\n",
       "    </tr>\n",
       "    <tr>\n",
       "      <th>1</th>\n",
       "      <td>ham</td>\n",
       "      <td>Ok lar... Joking wif u oni...</td>\n",
       "    </tr>\n",
       "    <tr>\n",
       "      <th>2</th>\n",
       "      <td>spam</td>\n",
       "      <td>Free entry in 2 a wkly comp to win FA Cup fina...</td>\n",
       "    </tr>\n",
       "    <tr>\n",
       "      <th>3</th>\n",
       "      <td>ham</td>\n",
       "      <td>U dun say so early hor... U c already then say...</td>\n",
       "    </tr>\n",
       "    <tr>\n",
       "      <th>4</th>\n",
       "      <td>ham</td>\n",
       "      <td>Nah I don't think he goes to usf, he lives aro...</td>\n",
       "    </tr>\n",
       "  </tbody>\n",
       "</table>\n",
       "</div>"
      ],
      "text/plain": [
       "  label                                               text\n",
       "0   ham  Go until jurong point, crazy.. Available only ...\n",
       "1   ham                      Ok lar... Joking wif u oni...\n",
       "2  spam  Free entry in 2 a wkly comp to win FA Cup fina...\n",
       "3   ham  U dun say so early hor... U c already then say...\n",
       "4   ham  Nah I don't think he goes to usf, he lives aro..."
      ]
     },
     "execution_count": 2,
     "metadata": {},
     "output_type": "execute_result"
    }
   ],
   "source": [
    "df = df.dropna(how=\"any\", axis=1)\n",
    "df.columns = ['label', 'text']\n",
    "df.head()"
   ]
  },
  {
   "cell_type": "code",
   "execution_count": 3,
   "metadata": {},
   "outputs": [
    {
     "data": {
      "text/plain": [
       "ham     4825\n",
       "spam     747\n",
       "Name: label, dtype: int64"
      ]
     },
     "execution_count": 3,
     "metadata": {},
     "output_type": "execute_result"
    }
   ],
   "source": [
    "df['label'].value_counts()"
   ]
  },
  {
   "cell_type": "markdown",
   "metadata": {},
   "source": [
    "Note that this is an imbalanced dataset and keep that in mind while building the model."
   ]
  },
  {
   "cell_type": "code",
   "execution_count": 4,
   "metadata": {},
   "outputs": [
    {
     "data": {
      "text/plain": [
       "(0.8659368269921034, 0.13406317300789664)"
      ]
     },
     "execution_count": 4,
     "metadata": {},
     "output_type": "execute_result"
    }
   ],
   "source": [
    "4825/(4825+747), 747/(4825+747)"
   ]
  },
  {
   "cell_type": "code",
   "execution_count": 5,
   "metadata": {},
   "outputs": [
    {
     "data": {
      "text/html": [
       "<div>\n",
       "<style scoped>\n",
       "    .dataframe tbody tr th:only-of-type {\n",
       "        vertical-align: middle;\n",
       "    }\n",
       "\n",
       "    .dataframe tbody tr th {\n",
       "        vertical-align: top;\n",
       "    }\n",
       "\n",
       "    .dataframe thead th {\n",
       "        text-align: right;\n",
       "    }\n",
       "</style>\n",
       "<table border=\"1\" class=\"dataframe\">\n",
       "  <thead>\n",
       "    <tr style=\"text-align: right;\">\n",
       "      <th></th>\n",
       "      <th>label</th>\n",
       "      <th>text</th>\n",
       "      <th>text_length</th>\n",
       "    </tr>\n",
       "  </thead>\n",
       "  <tbody>\n",
       "    <tr>\n",
       "      <th>0</th>\n",
       "      <td>ham</td>\n",
       "      <td>Go until jurong point, crazy.. Available only ...</td>\n",
       "      <td>20</td>\n",
       "    </tr>\n",
       "    <tr>\n",
       "      <th>1</th>\n",
       "      <td>ham</td>\n",
       "      <td>Ok lar... Joking wif u oni...</td>\n",
       "      <td>6</td>\n",
       "    </tr>\n",
       "    <tr>\n",
       "      <th>2</th>\n",
       "      <td>spam</td>\n",
       "      <td>Free entry in 2 a wkly comp to win FA Cup fina...</td>\n",
       "      <td>28</td>\n",
       "    </tr>\n",
       "    <tr>\n",
       "      <th>3</th>\n",
       "      <td>ham</td>\n",
       "      <td>U dun say so early hor... U c already then say...</td>\n",
       "      <td>11</td>\n",
       "    </tr>\n",
       "    <tr>\n",
       "      <th>4</th>\n",
       "      <td>ham</td>\n",
       "      <td>Nah I don't think he goes to usf, he lives aro...</td>\n",
       "      <td>13</td>\n",
       "    </tr>\n",
       "  </tbody>\n",
       "</table>\n",
       "</div>"
      ],
      "text/plain": [
       "  label                                               text  text_length\n",
       "0   ham  Go until jurong point, crazy.. Available only ...           20\n",
       "1   ham                      Ok lar... Joking wif u oni...            6\n",
       "2  spam  Free entry in 2 a wkly comp to win FA Cup fina...           28\n",
       "3   ham  U dun say so early hor... U c already then say...           11\n",
       "4   ham  Nah I don't think he goes to usf, he lives aro...           13"
      ]
     },
     "execution_count": 5,
     "metadata": {},
     "output_type": "execute_result"
    }
   ],
   "source": [
    "df['text_length'] = df['text'].apply(lambda x: len(x.split(' ')))\n",
    "df.head()"
   ]
  },
  {
   "cell_type": "code",
   "execution_count": 6,
   "metadata": {},
   "outputs": [
    {
     "data": {
      "text/plain": [
       "(1, 171)"
      ]
     },
     "execution_count": 6,
     "metadata": {},
     "output_type": "execute_result"
    }
   ],
   "source": [
    "df['text_length'].min(), df['text_length'].max()"
   ]
  },
  {
   "cell_type": "code",
   "execution_count": 7,
   "metadata": {
    "collapsed": true
   },
   "outputs": [],
   "source": [
    "from sklearn.model_selection import train_test_split\n",
    "# default is 75% / 25% train-test split\n",
    "X = df['text'] \n",
    "y = df['label'].replace({'spam': 1, 'ham': 0})\n",
    "X_train, X_valid, y_train, y_valid = train_test_split(X, y, random_state=0)"
   ]
  },
  {
   "cell_type": "markdown",
   "metadata": {},
   "source": [
    "Exercises:\n",
    "1. Build a Logistic classifier (please refer to the notebook from session 3)\n",
    "    - Split the dataset into train and validation set\n",
    "    - Write the function to clean text \n",
    "    - Define a vectorizer (count or TFIDF) and fit it for train and validation sets\n",
    "    - Train a logistic classifer \n",
    "    - Check the accuracy\n",
    "    - Test the prediction on a few texts that you create\n",
    "    - Compute other metrics such as confusion matrix, precision, recall, F1 score, AU ROC, etc. Choose a metric (or more than one) most suitable for this model and give reasons.\n",
    "    - Refine the model by tuning the vectorizer and see if it improves based on the above chosen metric(es).\n",
    "2. Train a neutral network (please refer to the notebook from session 5)\n",
    "    - Vectorize using `Tokenizer` from `keras` and pad the sequences so that all texts are of the same length. Choose the length of the text carefully.\n",
    "    - Define and compile the neural network\n",
    "    - Train it\n",
    "    - Compute other metrics such as confusion matrix, precision, recall, F1 score, AU ROC, etc. Choose a metric (or more than one) most suitable for this model and give reasons.\n",
    "    - Refine the neural network by modifying the architecture/hyperparameters\n",
    "    "
   ]
  },
  {
   "cell_type": "code",
   "execution_count": 8,
   "metadata": {
    "collapsed": true
   },
   "outputs": [],
   "source": [
    "import re\n",
    "def clean_text(text):\n",
    "    \"\"\"\n",
    "    Applies some pre-processing on the given text.\n",
    "\n",
    "    Steps :\n",
    "    - Removing HTML tags\n",
    "    - Removing punctuation\n",
    "    - Lowering text\n",
    "    \"\"\"\n",
    "    \n",
    "    # remove HTML tags\n",
    "    text = re.sub(r'<.*?>', '', text)\n",
    "    \n",
    "    # remove the characters [\\], ['] and [\"]\n",
    "    text = re.sub(r\"\\\\\", \"\", text)    \n",
    "    text = re.sub(r\"\\'\", \"\", text)    \n",
    "    text = re.sub(r\"\\\"\", \"\", text)    \n",
    "    \n",
    "    # convert text to lowercase\n",
    "    text = text.strip().lower()\n",
    "    \n",
    "    # replace punctuation characters with spaces\n",
    "    filters='!\"\\'#$%&()*+,-./:;<=>?@[\\\\]^_`{|}~\\t\\n'\n",
    "    translate_dict = dict((c, \" \") for c in filters)\n",
    "    translate_map = str.maketrans(translate_dict)\n",
    "    text = text.translate(translate_map)\n",
    "\n",
    "    return text"
   ]
  },
  {
   "cell_type": "code",
   "execution_count": 9,
   "metadata": {},
   "outputs": [
    {
     "name": "stdout",
     "output_type": "stream",
     "text": [
      "Accuracy on the Spam detection dataset: 97.77\n"
     ]
    }
   ],
   "source": [
    "from sklearn.feature_extraction.text import CountVectorizer\n",
    "from sklearn.metrics import accuracy_score\n",
    "\n",
    "from sklearn.linear_model import LogisticRegression\n",
    "\n",
    "# Vectorization\n",
    "vectorizer = CountVectorizer(stop_words=\"english\",\n",
    "                             preprocessor=clean_text)\n",
    "\n",
    "X_train_vectorized = vectorizer.fit_transform(X_train)    \n",
    "X_valid_vectorized = vectorizer.transform(X_valid)\n",
    "\n",
    "# Model training\n",
    "model = LogisticRegression()\n",
    "model.fit(X_train_vectorized, y_train)\n",
    "y_predicted = model.predict(X_valid_vectorized)\n",
    "\n",
    "# Evaluation\n",
    "acc = accuracy_score(y_valid, y_predicted)\n",
    "\n",
    "print(\"Accuracy on the Spam detection dataset: {:.2f}\".format(acc*100))"
   ]
  },
  {
   "cell_type": "code",
   "execution_count": 10,
   "metadata": {},
   "outputs": [
    {
     "name": "stdout",
     "output_type": "stream",
     "text": [
      "Confusion Matrix\n",
      " [[1195    1]\n",
      " [  30  167]]\n"
     ]
    }
   ],
   "source": [
    "# Compute confusin matrix\n",
    "from sklearn.metrics import confusion_matrix\n",
    "confusion = confusion_matrix(y_valid, y_predicted)\n",
    "print('Confusion Matrix\\n', confusion)"
   ]
  },
  {
   "cell_type": "code",
   "execution_count": 11,
   "metadata": {},
   "outputs": [
    {
     "name": "stdout",
     "output_type": "stream",
     "text": [
      "Accuracy: 0.9777458722182341\n",
      "Precision: 0.9940476190476191\n",
      "Recall: 0.8477157360406091\n",
      "F1: 0.9150684931506848\n"
     ]
    }
   ],
   "source": [
    "from sklearn.metrics import accuracy_score, precision_score, recall_score, f1_score\n",
    "accuracy = accuracy_score(y_valid, y_predicted)\n",
    "precision = precision_score(y_valid, y_predicted)\n",
    "recall = recall_score(y_valid, y_predicted)\n",
    "f1 = f1_score(y_valid, y_predicted)\n",
    "print('Accuracy:', accuracy)\n",
    "print('Precision:', precision)\n",
    "print('Recall:', recall)\n",
    "print('F1:', f1)"
   ]
  },
  {
   "cell_type": "code",
   "execution_count": 12,
   "metadata": {},
   "outputs": [
    {
     "data": {
      "image/png": "[encoded data removed]",
      "text/plain": [
       "<Figure size 432x432 with 1 Axes>"
      ]
     },
     "metadata": {
      "needs_background": "light"
     },
     "output_type": "display_data"
    }
   ],
   "source": [
    "from sklearn.metrics import precision_recall_curve\n",
    "\n",
    "y_scores = model.decision_function(X_valid_vectorized)\n",
    "precision, recall, thresholds = precision_recall_curve(y_valid, y_scores)\n",
    "closest_zero = np.argmin(np.abs(thresholds))\n",
    "closest_zero_p = precision[closest_zero]\n",
    "closest_zero_r = recall[closest_zero]\n",
    "\n",
    "plt.figure(figsize=(6, 6))\n",
    "plt.xlim([0.0, 1.01])\n",
    "plt.ylim([0.0, 1.01])\n",
    "plt.title('Precision-Recall Curve', fontsize=18)\n",
    "plt.plot(precision, recall, label='Precision-Recall Curve')\n",
    "plt.plot(closest_zero_p, closest_zero_r, 'o', markersize = 12, fillstyle = 'none', c='r', mew=3)\n",
    "plt.xlabel('Precision', fontsize=16)\n",
    "plt.ylabel('Recall', fontsize=16)\n",
    "plt.legend(loc='lower left', fontsize=12)\n",
    "plt.show()"
   ]
  },
  {
   "cell_type": "code",
   "execution_count": 13,
   "metadata": {},
   "outputs": [
    {
     "data": {
      "image/png": "[encoded data removed]",
      "text/plain": [
       "<Figure size 504x504 with 1 Axes>"
      ]
     },
     "metadata": {
      "needs_background": "light"
     },
     "output_type": "display_data"
    }
   ],
   "source": [
    "from sklearn.metrics import roc_curve, auc\n",
    "\n",
    "fpr, tpr, _ = roc_curve(y_valid, y_scores)\n",
    "roc_auc_lr = auc(fpr, tpr)\n",
    "\n",
    "plt.figure(figsize=(7, 7))\n",
    "plt.xlim([-0.01, 1.00])\n",
    "plt.ylim([-0.01, 1.01])\n",
    "plt.plot(fpr, tpr, lw=3, label='LogRegr ROC curve (area = {:0.2f})'.format(roc_auc_lr))\n",
    "plt.xlabel('False Positive Rate', fontsize=16)\n",
    "plt.ylabel('True Positive Rate', fontsize=16)\n",
    "plt.title('ROC curve', fontsize=16)\n",
    "plt.legend(loc='lower right', fontsize=12)\n",
    "plt.plot([0, 1], [0, 1], color='navy', lw=3, linestyle='--')\n",
    "plt.show()"
   ]
  },
  {
   "cell_type": "code",
   "execution_count": 22,
   "metadata": {
    "collapsed": true
   },
   "outputs": [],
   "source": [
    "# Vectorization\n",
    "from tensorflow.python.keras.preprocessing.text import Tokenizer\n",
    "from tensorflow.python.keras.preprocessing.sequence import pad_sequences\n",
    "\n",
    "num_words = 50000\n",
    "tokenizer = Tokenizer(num_words = num_words)\n",
    "tokenizer.fit_on_texts(X)\n",
    "\n",
    "X_train_tokens = tokenizer.texts_to_sequences(X_train)\n",
    "X_valid_tokens = tokenizer.texts_to_sequences(X_valid)\n",
    "\n",
    "max_tokens = 160\n",
    "X_train_pad = pad_sequences(X_train_tokens, maxlen=max_tokens)\n",
    "X_valid_pad = pad_sequences(X_valid_tokens, maxlen=max_tokens)"
   ]
  },
  {
   "cell_type": "code",
   "execution_count": 23,
   "metadata": {
    "collapsed": true
   },
   "outputs": [],
   "source": [
    "from keras.models import Sequential\n",
    "from keras import Input\n",
    "from keras.layers import Dense, Embedding, Dropout, GlobalAveragePooling1D\n",
    "from keras.optimizers import Adam\n",
    "from keras.losses import SparseCategoricalCrossentropy \n",
    "import tensorflow as tf"
   ]
  },
  {
   "cell_type": "code",
   "execution_count": 24,
   "metadata": {
    "collapsed": true
   },
   "outputs": [],
   "source": [
    "# Define model\n",
    "model = Sequential()\n",
    "embedding_size = 32\n",
    "model.add(Embedding(input_dim=num_words, output_dim=embedding_size, input_length=max_tokens))\n",
    "model.add(Dropout(0.1))\n",
    "model.add(GlobalAveragePooling1D())\n",
    "model.add(Dense(units=32, activation='relu')) # Hidden layer\n",
    "model.add(Dense(units=16, activation='relu')) # Hidden layer\n",
    "model.add(Dense(units=2, activation='softmax')) # Output layer\n",
    "\n",
    "# Compile model \n",
    "model.compile(loss=SparseCategoricalCrossentropy(), optimizer=Adam(1e-4), metrics=[\"accuracy\"])"
   ]
  },
  {
   "cell_type": "code",
   "execution_count": 25,
   "metadata": {},
   "outputs": [
    {
     "name": "stdout",
     "output_type": "stream",
     "text": [
      "Epoch 1/50\n",
      "262/262 [==============================] - 3s 9ms/step - loss: 0.6338 - accuracy: 0.8654 - val_loss: 0.4907 - val_accuracy: 0.8586\n",
      "Epoch 2/50\n",
      "262/262 [==============================] - 2s 9ms/step - loss: 0.4406 - accuracy: 0.8737 - val_loss: 0.3964 - val_accuracy: 0.8586\n",
      "Epoch 3/50\n",
      "262/262 [==============================] - 2s 9ms/step - loss: 0.3667 - accuracy: 0.8740 - val_loss: 0.3891 - val_accuracy: 0.8586\n",
      "Epoch 4/50\n",
      "262/262 [==============================] - 2s 9ms/step - loss: 0.3561 - accuracy: 0.8747 - val_loss: 0.3856 - val_accuracy: 0.8586\n",
      "Epoch 5/50\n",
      "262/262 [==============================] - 2s 9ms/step - loss: 0.3701 - accuracy: 0.8649 - val_loss: 0.3818 - val_accuracy: 0.8586\n",
      "Epoch 6/50\n",
      "262/262 [==============================] - 2s 9ms/step - loss: 0.3663 - accuracy: 0.8641 - val_loss: 0.3777 - val_accuracy: 0.8586\n",
      "Epoch 7/50\n",
      "262/262 [==============================] - 2s 9ms/step - loss: 0.3434 - accuracy: 0.8738 - val_loss: 0.3715 - val_accuracy: 0.8586\n",
      "Epoch 8/50\n",
      "262/262 [==============================] - 2s 9ms/step - loss: 0.3494 - accuracy: 0.8672 - val_loss: 0.3645 - val_accuracy: 0.8586\n",
      "Epoch 9/50\n",
      "262/262 [==============================] - 2s 9ms/step - loss: 0.3305 - accuracy: 0.8739 - val_loss: 0.3547 - val_accuracy: 0.8586\n",
      "Epoch 10/50\n",
      "262/262 [==============================] - 2s 9ms/step - loss: 0.3310 - accuracy: 0.8660 - val_loss: 0.3415 - val_accuracy: 0.8586\n",
      "Epoch 11/50\n",
      "262/262 [==============================] - 2s 9ms/step - loss: 0.3208 - accuracy: 0.8635 - val_loss: 0.3234 - val_accuracy: 0.8586\n",
      "Epoch 12/50\n",
      "262/262 [==============================] - 2s 9ms/step - loss: 0.2962 - accuracy: 0.8656 - val_loss: 0.2941 - val_accuracy: 0.8586\n",
      "Epoch 13/50\n",
      "262/262 [==============================] - 2s 9ms/step - loss: 0.2650 - accuracy: 0.8647 - val_loss: 0.2588 - val_accuracy: 0.8593\n",
      "Epoch 14/50\n",
      "262/262 [==============================] - 2s 9ms/step - loss: 0.2256 - accuracy: 0.8786 - val_loss: 0.2173 - val_accuracy: 0.8966\n",
      "Epoch 15/50\n",
      "262/262 [==============================] - 2s 9ms/step - loss: 0.1752 - accuracy: 0.9310 - val_loss: 0.1852 - val_accuracy: 0.9203\n",
      "Epoch 16/50\n",
      "262/262 [==============================] - 2s 9ms/step - loss: 0.1553 - accuracy: 0.9489 - val_loss: 0.1604 - val_accuracy: 0.9361\n",
      "Epoch 17/50\n",
      "262/262 [==============================] - 2s 9ms/step - loss: 0.1304 - accuracy: 0.9610 - val_loss: 0.1398 - val_accuracy: 0.9505\n",
      "Epoch 18/50\n",
      "262/262 [==============================] - 2s 9ms/step - loss: 0.1129 - accuracy: 0.9711 - val_loss: 0.1250 - val_accuracy: 0.9555\n",
      "Epoch 19/50\n",
      "262/262 [==============================] - 2s 9ms/step - loss: 0.0923 - accuracy: 0.9753 - val_loss: 0.1080 - val_accuracy: 0.9648\n",
      "Epoch 20/50\n",
      "262/262 [==============================] - 2s 9ms/step - loss: 0.0819 - accuracy: 0.9777 - val_loss: 0.0986 - val_accuracy: 0.9634\n",
      "Epoch 21/50\n",
      "262/262 [==============================] - 2s 9ms/step - loss: 0.0648 - accuracy: 0.9831 - val_loss: 0.0892 - val_accuracy: 0.9698\n",
      "Epoch 22/50\n",
      "262/262 [==============================] - 2s 9ms/step - loss: 0.0634 - accuracy: 0.9843 - val_loss: 0.0822 - val_accuracy: 0.9720\n",
      "Epoch 23/50\n",
      "262/262 [==============================] - 2s 9ms/step - loss: 0.0512 - accuracy: 0.9872 - val_loss: 0.0737 - val_accuracy: 0.9777\n",
      "Epoch 24/50\n",
      "262/262 [==============================] - 2s 9ms/step - loss: 0.0497 - accuracy: 0.9876 - val_loss: 0.0687 - val_accuracy: 0.9770\n",
      "Epoch 25/50\n",
      "262/262 [==============================] - 2s 9ms/step - loss: 0.0464 - accuracy: 0.9879 - val_loss: 0.0654 - val_accuracy: 0.9770\n",
      "Epoch 26/50\n",
      "262/262 [==============================] - 2s 9ms/step - loss: 0.0490 - accuracy: 0.9836 - val_loss: 0.0622 - val_accuracy: 0.9777\n",
      "Epoch 27/50\n",
      "262/262 [==============================] - 2s 9ms/step - loss: 0.0395 - accuracy: 0.9881 - val_loss: 0.0573 - val_accuracy: 0.9799\n",
      "Epoch 28/50\n",
      "262/262 [==============================] - 2s 9ms/step - loss: 0.0368 - accuracy: 0.9890 - val_loss: 0.0548 - val_accuracy: 0.9813\n",
      "Epoch 29/50\n",
      "262/262 [==============================] - 2s 9ms/step - loss: 0.0344 - accuracy: 0.9918 - val_loss: 0.0523 - val_accuracy: 0.9813\n",
      "Epoch 30/50\n",
      "262/262 [==============================] - 2s 9ms/step - loss: 0.0351 - accuracy: 0.9897 - val_loss: 0.0507 - val_accuracy: 0.9821\n",
      "Epoch 31/50\n",
      "262/262 [==============================] - 2s 9ms/step - loss: 0.0312 - accuracy: 0.9893 - val_loss: 0.0488 - val_accuracy: 0.9835\n",
      "Epoch 32/50\n",
      "262/262 [==============================] - 2s 9ms/step - loss: 0.0293 - accuracy: 0.9912 - val_loss: 0.0473 - val_accuracy: 0.9842\n",
      "Epoch 33/50\n",
      "262/262 [==============================] - 2s 9ms/step - loss: 0.0282 - accuracy: 0.9927 - val_loss: 0.0486 - val_accuracy: 0.9813\n",
      "Epoch 34/50\n",
      "262/262 [==============================] - 2s 8ms/step - loss: 0.0238 - accuracy: 0.9930 - val_loss: 0.0440 - val_accuracy: 0.9871\n",
      "Epoch 35/50\n",
      "262/262 [==============================] - 2s 9ms/step - loss: 0.0253 - accuracy: 0.9936 - val_loss: 0.0436 - val_accuracy: 0.9864\n",
      "Epoch 36/50\n",
      "262/262 [==============================] - 2s 9ms/step - loss: 0.0247 - accuracy: 0.9929 - val_loss: 0.0425 - val_accuracy: 0.9871\n",
      "Epoch 37/50\n",
      "262/262 [==============================] - 2s 9ms/step - loss: 0.0201 - accuracy: 0.9952 - val_loss: 0.0409 - val_accuracy: 0.9871\n",
      "Epoch 38/50\n",
      "262/262 [==============================] - 2s 9ms/step - loss: 0.0216 - accuracy: 0.9927 - val_loss: 0.0401 - val_accuracy: 0.9871\n",
      "Epoch 39/50\n",
      "262/262 [==============================] - 2s 9ms/step - loss: 0.0195 - accuracy: 0.9943 - val_loss: 0.0400 - val_accuracy: 0.9871\n",
      "Epoch 40/50\n",
      "262/262 [==============================] - 3s 10ms/step - loss: 0.0178 - accuracy: 0.9951 - val_loss: 0.0393 - val_accuracy: 0.9871\n",
      "Epoch 41/50\n",
      "262/262 [==============================] - 3s 11ms/step - loss: 0.0180 - accuracy: 0.9950 - val_loss: 0.0384 - val_accuracy: 0.9871\n",
      "Epoch 42/50\n",
      "262/262 [==============================] - 3s 13ms/step - loss: 0.0196 - accuracy: 0.9942 - val_loss: 0.0404 - val_accuracy: 0.9871\n",
      "Epoch 43/50\n",
      "262/262 [==============================] - 4s 14ms/step - loss: 0.0151 - accuracy: 0.9951 - val_loss: 0.0384 - val_accuracy: 0.9871\n",
      "Epoch 44/50\n",
      "262/262 [==============================] - 4s 14ms/step - loss: 0.0180 - accuracy: 0.9942 - val_loss: 0.0377 - val_accuracy: 0.9871\n",
      "Epoch 45/50\n",
      "262/262 [==============================] - 3s 12ms/step - loss: 0.0127 - accuracy: 0.9956 - val_loss: 0.0359 - val_accuracy: 0.9878\n",
      "Epoch 46/50\n",
      "262/262 [==============================] - 3s 11ms/step - loss: 0.0137 - accuracy: 0.9952 - val_loss: 0.0375 - val_accuracy: 0.9885\n",
      "Epoch 47/50\n",
      "262/262 [==============================] - 3s 10ms/step - loss: 0.0129 - accuracy: 0.9951 - val_loss: 0.0352 - val_accuracy: 0.9878\n",
      "Epoch 48/50\n",
      "262/262 [==============================] - 2s 9ms/step - loss: 0.0116 - accuracy: 0.9967 - val_loss: 0.0349 - val_accuracy: 0.9878\n",
      "Epoch 49/50\n",
      "262/262 [==============================] - 2s 9ms/step - loss: 0.0128 - accuracy: 0.9959 - val_loss: 0.0372 - val_accuracy: 0.9885\n",
      "Epoch 50/50\n",
      "262/262 [==============================] - 2s 9ms/step - loss: 0.0109 - accuracy: 0.9959 - val_loss: 0.0341 - val_accuracy: 0.9892\n"
     ]
    },
    {
     "data": {
      "text/plain": [
       "<tensorflow.python.keras.callbacks.History at 0x7fb24bd19070>"
      ]
     },
     "execution_count": 25,
     "metadata": {},
     "output_type": "execute_result"
    }
   ],
   "source": [
    "model.fit(X_train_pad, y_train, batch_size=16, epochs=50, verbose=1, validation_data=(X_valid_pad, y_valid))"
   ]
  },
  {
   "cell_type": "code",
   "execution_count": 26,
   "metadata": {},
   "outputs": [
    {
     "name": "stderr",
     "output_type": "stream",
     "text": [
      "/Users/aashita/opt/anaconda3/lib/python3.8/site-packages/tensorflow/python/keras/engine/sequential.py:450: UserWarning: `model.predict_classes()` is deprecated and will be removed after 2021-01-01. Please use instead:* `np.argmax(model.predict(x), axis=-1)`,   if your model does multi-class classification   (e.g. if it uses a `softmax` last-layer activation).* `(model.predict(x) > 0.5).astype(\"int32\")`,   if your model does binary classification   (e.g. if it uses a `sigmoid` last-layer activation).\n",
      "  warnings.warn('`model.predict_classes()` is deprecated and '\n"
     ]
    }
   ],
   "source": [
    "y_predicted = model.predict_classes(X_valid_pad)"
   ]
  },
  {
   "cell_type": "code",
   "execution_count": 27,
   "metadata": {},
   "outputs": [
    {
     "name": "stdout",
     "output_type": "stream",
     "text": [
      "Confusion Matrix\n",
      " [[1192    4]\n",
      " [  11  186]]\n"
     ]
    }
   ],
   "source": [
    "confusion = confusion_matrix(y_valid, y_predicted)\n",
    "print('Confusion Matrix\\n', confusion)"
   ]
  },
  {
   "cell_type": "code",
   "execution_count": 28,
   "metadata": {},
   "outputs": [
    {
     "name": "stdout",
     "output_type": "stream",
     "text": [
      "Accuracy: 0.9892318736539842\n",
      "Precision: 0.9789473684210527\n",
      "Recall: 0.9441624365482234\n",
      "F1: 0.9612403100775194\n"
     ]
    }
   ],
   "source": [
    "accuracy = accuracy_score(y_valid, y_predicted)\n",
    "precision = precision_score(y_valid, y_predicted)\n",
    "recall = recall_score(y_valid, y_predicted)\n",
    "f1 = f1_score(y_valid, y_predicted)\n",
    "print('Accuracy:', accuracy)\n",
    "print('Precision:', precision)\n",
    "print('Recall:', recall)\n",
    "print('F1:', f1)"
   ]
  },
  {
   "cell_type": "code",
   "execution_count": 21,
   "metadata": {},
   "outputs": [
    {
     "data": {
      "image/png": "[encoded data removed]",
      "text/plain": [
       "<Figure size 504x504 with 1 Axes>"
      ]
     },
     "metadata": {
      "needs_background": "light"
     },
     "output_type": "display_data"
    }
   ],
   "source": [
    "fpr, tpr, _ = roc_curve(y_valid, y_scores)\n",
    "roc_auc_lr = auc(fpr, tpr)\n",
    "\n",
    "plt.figure(figsize=(7, 7))\n",
    "plt.xlim([-0.01, 1.00])\n",
    "plt.ylim([-0.01, 1.01])\n",
    "plt.plot(fpr, tpr, lw=3, label='LogRegr ROC curve (area = {:0.2f})'.format(roc_auc_lr))\n",
    "plt.xlabel('False Positive Rate', fontsize=16)\n",
    "plt.ylabel('True Positive Rate', fontsize=16)\n",
    "plt.title('ROC curve', fontsize=16)\n",
    "plt.legend(loc='lower right', fontsize=12)\n",
    "plt.plot([0, 1], [0, 1], color='navy', lw=3, linestyle='--')\n",
    "plt.show()"
   ]
  },
  {
   "cell_type": "code",
   "execution_count": null,
   "metadata": {
    "collapsed": true
   },
   "outputs": [],
   "source": []
  }
 ],
 "metadata": {
  "kernelspec": {
   "display_name": "Python 3 (ipykernel)",
   "language": "python",
   "name": "python3"
  },
  "language_info": {
   "codemirror_mode": {
    "name": "ipython",
    "version": 3
   },
   "file_extension": ".py",
   "mimetype": "text/x-python",
   "name": "python",
   "nbconvert_exporter": "python",
   "pygments_lexer": "ipython3",
   "version": "3.10.10"
  }
 },
 "nbformat": 4,
 "nbformat_minor": 4
}
