{
 "cells": [
  {
   "cell_type": "markdown",
   "id": "039616a5",
   "metadata": {},
   "source": [
    "#### An overview of ***Jupyter Notebook***.\n",
    "Jupyter Notebook is the de facto standard in Data Science inspired by the concept of [literate programming](https://www-cs-faculty.stanford.edu/~knuth/lp.html) introduced by [Donald Knuth](https://amturing.acm.org/award_winners/knuth_1013846.cfm). \n",
    "\n",
    "It is composed of blocks that are called cells.\n",
    "\n",
    "There are two types of cells:\n",
    "* Code cells\n",
    "* Markdown cells (for text such as this cell itself)\n",
    "\n",
    "You can run the code within the cells (No need to use command line) by first selecting the cell and then using `Shift` + `Enter`. Another option is to use the `Run` button at the header at the top."
   ]
  },
  {
   "cell_type": "code",
   "execution_count": null,
   "id": "824cab20",
   "metadata": {},
   "outputs": [],
   "source": [
    "a = 2\n",
    "b = 3\n",
    "a + b"
   ]
  },
  {
   "cell_type": "markdown",
   "id": "757c4d40",
   "metadata": {},
   "source": [
    "#### Key shortcuts using command mode for Jupyter notebooks on your laptop (won't work for Google Colab)\n",
    "Press `Esc` to activate the command mode:\n",
    "Shortcuts:\n",
    "* A: Insert cell above\n",
    "* B: Insert cell below\n",
    "* C: Copy \n",
    "* V: Paste \n",
    "* X: Cut \n",
    "* DD: Delete \n",
    "* M: Convert a cell to Markdown cell\n",
    "* Shift: Let's you select multiple cells at once that you can copy/cut/delete.\n",
    "\n",
    "To exit the command mode, simply press `Enter`. You need to first exit the command mode to run/edit the cell. \n",
    "\n",
    "Jupyter notebook allows Tab completion, so as to let you avoid typing the function and variable names. \n",
    "\n",
    "It also supports the help feature. \n",
    "- To get documentation about a function, you pass the name of the function inside `help()`.\n",
    "- To view help, you can also type the function name followed by `?`.\n",
    "- To get the source code of a function, type the function followed by a double question mark `??`."
   ]
  },
  {
   "cell_type": "markdown",
   "id": "07a011c1",
   "metadata": {},
   "source": [
    "### A brief overview of Markdown:\n",
    "\n",
    "Q: What is markdown?\n",
    "\n",
    "A: Markdown is a  simple markup language that uses plain-text syntax and functions pretty similarly to HTML. \n",
    "\n",
    "\n",
    "Q: What are some style things I can do with it?\n",
    "\n",
    "# \\# Headers\n",
    "\n",
    "\n",
    "\\*\\*Bold text\\*\\* --> **Bold text**\n",
    "\n",
    "\n",
    "\n",
    "\\*Italics\\* --> *Italics*\n",
    "\n",
    "\n",
    "> \\> Block quotes\n",
    "\n",
    "Bulleted list:\n",
    "\n",
    "- \\- Item 1\n",
    "\n",
    "- \\- Item 2\n",
    "\n",
    "\n",
    "Horizontal divider\n",
    "\n",
    "Syntax: \\-\\-\\-\n",
    "\n",
    "---\n",
    "\n",
    "\\[Linked text\\](link url) --> [Linked text](https://en.wikipedia.org/wiki/Python_(programming_language))\n",
    "\n",
    "\n",
    "\n",
    "\n",
    "\\`Code snippets\\` --> `Code snippet`\n",
    "\n",
    "\n",
    "\n",
    "\\`\\`\\` \n",
    "\n",
    "Code block --> \n",
    "\n",
    "\\`\\`\\`\n",
    "\n",
    "```\n",
    "{\n",
    "Code block\n",
    "}\n",
    "```\n",
    "\n",
    "Supports $\\LaTeX$:\n",
    "\n",
    "\\frac{x^2+1}{3} --> $\\frac{x^2+1}{3}$ \n",
    "\n",
    "\n",
    "    \n",
    "</font>\n",
    "\n",
    "Embeds image:\n",
    "\n",
    "\\!\\[\\]\\(*Image Address*\\) --> ![](https://upload.wikimedia.org/wikipedia/commons/3/38/Jupyter_logo.svg)\n",
    "\n",
    "##### Markdown is used to style all the course materials, so it helps to have a little familiarity. \n",
    "\n",
    "As your Jupyter notebook can be exported in many formats, Markdown is a useful tool to learn for presenting your data analysis or machine learning model."
   ]
  },
  {
   "cell_type": "code",
   "execution_count": null,
   "id": "1a1556f6",
   "metadata": {},
   "outputs": [],
   "source": [
    "from statistics import median\n",
    "help(median)"
   ]
  },
  {
   "cell_type": "code",
   "execution_count": null,
   "id": "ea323e9d",
   "metadata": {},
   "outputs": [],
   "source": [
    "median?"
   ]
  },
  {
   "cell_type": "code",
   "execution_count": null,
   "id": "f4e1f672",
   "metadata": {},
   "outputs": [],
   "source": [
    "median??"
   ]
  },
  {
   "cell_type": "code",
   "execution_count": null,
   "id": "6b07ea17",
   "metadata": {},
   "outputs": [],
   "source": []
  }
 ],
 "metadata": {
  "kernelspec": {
   "display_name": "Python 3 (ipykernel)",
   "language": "python",
   "name": "python3"
  },
  "language_info": {
   "codemirror_mode": {
    "name": "ipython",
    "version": 3
   },
   "file_extension": ".py",
   "mimetype": "text/x-python",
   "name": "python",
   "nbconvert_exporter": "python",
   "pygments_lexer": "ipython3",
   "version": "3.10.9"
  }
 },
 "nbformat": 4,
 "nbformat_minor": 5
}
