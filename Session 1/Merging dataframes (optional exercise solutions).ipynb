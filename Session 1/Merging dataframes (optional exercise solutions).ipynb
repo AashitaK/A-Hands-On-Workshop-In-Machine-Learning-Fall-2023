{
 "cells": [
  {
   "cell_type": "markdown",
   "id": "a1f3680d",
   "metadata": {},
   "source": [
    "#### Merging dataframes from [Instacart Market Basket Analysis](https://www.kaggle.com/c/instacart-market-basket-analysis/overview) dataset:\n",
    "Our next dataset is taken from a [competition](https://www.kaggle.com/c/instacart-market-basket-analysis/overview) hosted by Instacard on Kaggle platform. The dataset contains information about products in its grocery stores given in four files. Please see [here](https://www.kaggle.com/c/instacart-market-basket-analysis/data) for more information.\n",
    "We load the four files into separate dataframes:   \n",
    "`aisles.csv`   \n",
    "`departments.csv`  \n",
    "`products.csv`  \n",
    "`order_products__train.csv`"
   ]
  },
  {
   "cell_type": "code",
   "execution_count": null,
   "id": "68567426",
   "metadata": {
    "collapsed": true
   },
   "outputs": [],
   "source": [
    "import numpy as np\n",
    "import pandas as pd\n",
    "dfa = pd.read_csv('https://raw.githubusercontent.com/AashitaK/datasets/main/instacart-market-basket-analysis/aisles.csv')\n",
    "dfd = pd.read_csv('https://raw.githubusercontent.com/AashitaK/datasets/main/instacart-market-basket-analysis/departments.csv')\n",
    "dfp = pd.read_csv('https://raw.githubusercontent.com/AashitaK/datasets/main/instacart-market-basket-analysis/products.csv')\n",
    "dfo = pd.read_csv('https://raw.githubusercontent.com/AashitaK/datasets/main/instacart-market-basket-analysis/order_products__train.csv')"
   ]
  },
  {
   "cell_type": "markdown",
   "id": "0362e9fa",
   "metadata": {},
   "source": [
    "Familiarize yourself with the dataframes. Hint: Use [`head()`](https://pandas.pydata.org/pandas-docs/stable/reference/api/pandas.DataFrame.head.html).  \n",
    "Note: You might want to add the code cells. This can be done in two ways:\n",
    "1. Using the keyboard shortcuts: \n",
    "    1. First press `Esc` key to enter the command mode.\n",
    "    2. Add cell above using `A` or below using `B`.\n",
    "    3. Exit by pressing `Enter/Return` key.\n",
    "2. Using `Insert` tab in the top bar of the notebook and then `Insert Cell Above` or `Insert Cell Below`.\n"
   ]
  },
  {
   "cell_type": "code",
   "execution_count": null,
   "id": "7ce39584",
   "metadata": {
    "collapsed": true
   },
   "outputs": [],
   "source": []
  },
  {
   "cell_type": "markdown",
   "id": "3b7154cd",
   "metadata": {},
   "source": [
    "**Goal: Get a dataframe consisting of the name of the products along with their aisle names and department names for the order with `order_id` equal to 1.**  \n",
    "This dataframe must have ***8 rows and only three columns:\n",
    "```'product_name', 'aisle', 'department'```***"
   ]
  },
  {
   "cell_type": "markdown",
   "id": "21a0a4e2",
   "metadata": {},
   "source": [
    "First slice out 8 rows from the order_products dataframe that corresponds with `order_id` equal to 1 and save it in a new dataframe `df`. Hint: Use conditional on indexing as seen above."
   ]
  },
  {
   "cell_type": "code",
   "execution_count": null,
   "id": "7e55fdf0",
   "metadata": {
    "collapsed": true
   },
   "outputs": [],
   "source": [
    "# df = dfo[dfo['order_id'] == 1]"
   ]
  },
  {
   "cell_type": "markdown",
   "id": "532c4c05",
   "metadata": {},
   "source": [
    "Let us have a peek into the dataframe `df`."
   ]
  },
  {
   "cell_type": "code",
   "execution_count": null,
   "id": "7ba2f13d",
   "metadata": {
    "collapsed": true
   },
   "outputs": [],
   "source": [
    "df"
   ]
  },
  {
   "cell_type": "markdown",
   "id": "e37c3727",
   "metadata": {},
   "source": [
    "The dataframe `df` has a column named `product_id`. So, we can merge it with the dataframe `dfp` to get `product_name`."
   ]
  },
  {
   "cell_type": "code",
   "execution_count": null,
   "id": "15bf9e1d",
   "metadata": {
    "collapsed": true
   },
   "outputs": [],
   "source": [
    "dfp.head()"
   ]
  },
  {
   "cell_type": "markdown",
   "id": "f8cca7d4",
   "metadata": {},
   "source": [
    "Merge the dataframes `df` and `dfp` using [`merge()`](https://pandas.pydata.org/pandas-docs/stable/reference/api/pandas.DataFrame.merge.html) and save the result back to `df`."
   ]
  },
  {
   "cell_type": "code",
   "execution_count": null,
   "id": "2e2d9236",
   "metadata": {
    "collapsed": true
   },
   "outputs": [],
   "source": [
    "# df = df.merge(dfp)"
   ]
  },
  {
   "cell_type": "markdown",
   "id": "6bd78cbe",
   "metadata": {},
   "source": [
    "Let us check whether the new columns are added to the dataframe `df`."
   ]
  },
  {
   "cell_type": "code",
   "execution_count": null,
   "id": "ceec42da",
   "metadata": {
    "collapsed": true
   },
   "outputs": [],
   "source": [
    "df"
   ]
  },
  {
   "cell_type": "markdown",
   "id": "99abd9fd",
   "metadata": {},
   "source": [
    "Now, we have new columns `aisle_id` and `department_id`. Let us first merge `dfa` with this dataframe to get the column `aisle`."
   ]
  },
  {
   "cell_type": "code",
   "execution_count": null,
   "id": "c440ac3b",
   "metadata": {
    "collapsed": true
   },
   "outputs": [],
   "source": [
    "# df = df.merge(dfa)"
   ]
  },
  {
   "cell_type": "markdown",
   "id": "5cccec1a",
   "metadata": {},
   "source": [
    "Let us check our dataframe `df` again. It should reflect the changes we attempted."
   ]
  },
  {
   "cell_type": "code",
   "execution_count": null,
   "id": "48435c60",
   "metadata": {
    "collapsed": true
   },
   "outputs": [],
   "source": [
    "df"
   ]
  },
  {
   "cell_type": "markdown",
   "id": "8b55751a",
   "metadata": {},
   "source": [
    "Now it should have the column `aisle`. Let us now merge `dfd` with this dataframe to get the column `department`."
   ]
  },
  {
   "cell_type": "code",
   "execution_count": null,
   "id": "72463cf7",
   "metadata": {
    "collapsed": true
   },
   "outputs": [],
   "source": [
    "# df = df.merge(dfd)"
   ]
  },
  {
   "cell_type": "markdown",
   "id": "449c299e",
   "metadata": {},
   "source": [
    "Let us check the dataframe `df` again. "
   ]
  },
  {
   "cell_type": "code",
   "execution_count": null,
   "id": "18f2f8fc",
   "metadata": {
    "collapsed": true
   },
   "outputs": [],
   "source": [
    "df"
   ]
  },
  {
   "cell_type": "markdown",
   "id": "0443c207",
   "metadata": {},
   "source": [
    "Finally, we only select 3 columns: `'product_name', 'aisle', 'department'`. Hint: Use indexing with the list of columns as seen above."
   ]
  },
  {
   "cell_type": "code",
   "execution_count": null,
   "id": "4acf6676",
   "metadata": {
    "collapsed": true
   },
   "outputs": [],
   "source": [
    "# df = df[['product_name', 'aisle', 'department']]"
   ]
  },
  {
   "cell_type": "markdown",
   "id": "c1a4f416",
   "metadata": {},
   "source": [
    "Let us check the dataframe `df` again."
   ]
  },
  {
   "cell_type": "code",
   "execution_count": null,
   "id": "c3f31a6f",
   "metadata": {
    "collapsed": true
   },
   "outputs": [],
   "source": [
    "df"
   ]
  },
  {
   "cell_type": "markdown",
   "id": "05491dd2",
   "metadata": {},
   "source": [
    "Let us check the shape of th dataframe `df`."
   ]
  },
  {
   "cell_type": "code",
   "execution_count": null,
   "id": "69fdc7fd",
   "metadata": {
    "collapsed": true
   },
   "outputs": [],
   "source": [
    "df.shape"
   ]
  },
  {
   "cell_type": "markdown",
   "id": "464b2871",
   "metadata": {},
   "source": [
    "The output should be `(8, 3)`. Please check your code above if you get something else."
   ]
  },
  {
   "cell_type": "code",
   "execution_count": null,
   "id": "90cfeef8",
   "metadata": {},
   "outputs": [],
   "source": []
  },
  {
   "cell_type": "markdown",
   "id": "13beb514",
   "metadata": {},
   "source": [
    "#### Acknowledgment:\n",
    "* [Instacart Market Basket Analysis](https://www.kaggle.com/c/instacart-market-basket-analysis/data) dataset openly available in Kaggle is used in the exercises."
   ]
  }
 ],
 "metadata": {
  "kernelspec": {
   "display_name": "Python 3 (ipykernel)",
   "language": "python",
   "name": "python3"
  },
  "language_info": {
   "codemirror_mode": {
    "name": "ipython",
    "version": 3
   },
   "file_extension": ".py",
   "mimetype": "text/x-python",
   "name": "python",
   "nbconvert_exporter": "python",
   "pygments_lexer": "ipython3",
   "version": "3.10.9"
  }
 },
 "nbformat": 4,
 "nbformat_minor": 5
}
