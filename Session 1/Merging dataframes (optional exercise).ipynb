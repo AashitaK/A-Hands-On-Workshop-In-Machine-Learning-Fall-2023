{
 "cells": [
  {
   "cell_type": "markdown",
   "id": "c34e9190",
   "metadata": {},
   "source": [
    "### Merging columns from different datasets (Optional) <a name=\"section4\"></a>:\n",
    "A simple illustration to merge two datasets using [`merge()`](https://pandas.pydata.org/pandas-docs/stable/reference/api/pandas.DataFrame.merge.html)."
   ]
  },
  {
   "cell_type": "code",
   "execution_count": 2,
   "id": "f7cc529b",
   "metadata": {},
   "outputs": [],
   "source": [
    "import pandas as pd\n",
    "df1 = pd.DataFrame({'CourseCode': ['PHYS024', 'CSCI35', 'ENGR156'], \n",
    "                   'CourseName': ['Mechanics and Wave Motion', \n",
    "                                  'Computer Science for Insight',\n",
    "                                 'Intro to Comm & Info Theory']})\n",
    "\n",
    "df2 = pd.DataFrame({'Professor': ['Zachary Dodds', 'Vatche Sahakian', \n",
    "                                  'Timothy Tsai', 'Brian Shuve'],\n",
    "                    'CourseCode': ['CSCI35', 'PHYS024',  'ENGR156', 'PHYS024']})"
   ]
  },
  {
   "cell_type": "code",
   "execution_count": 3,
   "id": "321e94eb",
   "metadata": {},
   "outputs": [
    {
     "data": {
      "text/html": [
       "<div>\n",
       "<style scoped>\n",
       "    .dataframe tbody tr th:only-of-type {\n",
       "        vertical-align: middle;\n",
       "    }\n",
       "\n",
       "    .dataframe tbody tr th {\n",
       "        vertical-align: top;\n",
       "    }\n",
       "\n",
       "    .dataframe thead th {\n",
       "        text-align: right;\n",
       "    }\n",
       "</style>\n",
       "<table border=\"1\" class=\"dataframe\">\n",
       "  <thead>\n",
       "    <tr style=\"text-align: right;\">\n",
       "      <th></th>\n",
       "      <th>CourseCode</th>\n",
       "      <th>CourseName</th>\n",
       "    </tr>\n",
       "  </thead>\n",
       "  <tbody>\n",
       "    <tr>\n",
       "      <th>0</th>\n",
       "      <td>PHYS024</td>\n",
       "      <td>Mechanics and Wave Motion</td>\n",
       "    </tr>\n",
       "    <tr>\n",
       "      <th>1</th>\n",
       "      <td>CSCI35</td>\n",
       "      <td>Computer Science for Insight</td>\n",
       "    </tr>\n",
       "    <tr>\n",
       "      <th>2</th>\n",
       "      <td>ENGR156</td>\n",
       "      <td>Intro to Comm &amp; Info Theory</td>\n",
       "    </tr>\n",
       "  </tbody>\n",
       "</table>\n",
       "</div>"
      ],
      "text/plain": [
       "  CourseCode                    CourseName\n",
       "0    PHYS024     Mechanics and Wave Motion\n",
       "1     CSCI35  Computer Science for Insight\n",
       "2    ENGR156   Intro to Comm & Info Theory"
      ]
     },
     "execution_count": 3,
     "metadata": {},
     "output_type": "execute_result"
    }
   ],
   "source": [
    "df1.head()"
   ]
  },
  {
   "cell_type": "code",
   "execution_count": 4,
   "id": "b8d09543",
   "metadata": {},
   "outputs": [
    {
     "data": {
      "text/html": [
       "<div>\n",
       "<style scoped>\n",
       "    .dataframe tbody tr th:only-of-type {\n",
       "        vertical-align: middle;\n",
       "    }\n",
       "\n",
       "    .dataframe tbody tr th {\n",
       "        vertical-align: top;\n",
       "    }\n",
       "\n",
       "    .dataframe thead th {\n",
       "        text-align: right;\n",
       "    }\n",
       "</style>\n",
       "<table border=\"1\" class=\"dataframe\">\n",
       "  <thead>\n",
       "    <tr style=\"text-align: right;\">\n",
       "      <th></th>\n",
       "      <th>Professor</th>\n",
       "      <th>CourseCode</th>\n",
       "    </tr>\n",
       "  </thead>\n",
       "  <tbody>\n",
       "    <tr>\n",
       "      <th>0</th>\n",
       "      <td>Zachary Dodds</td>\n",
       "      <td>CSCI35</td>\n",
       "    </tr>\n",
       "    <tr>\n",
       "      <th>1</th>\n",
       "      <td>Vatche Sahakian</td>\n",
       "      <td>PHYS024</td>\n",
       "    </tr>\n",
       "    <tr>\n",
       "      <th>2</th>\n",
       "      <td>Timothy Tsai</td>\n",
       "      <td>ENGR156</td>\n",
       "    </tr>\n",
       "    <tr>\n",
       "      <th>3</th>\n",
       "      <td>Brian Shuve</td>\n",
       "      <td>PHYS024</td>\n",
       "    </tr>\n",
       "  </tbody>\n",
       "</table>\n",
       "</div>"
      ],
      "text/plain": [
       "         Professor CourseCode\n",
       "0    Zachary Dodds     CSCI35\n",
       "1  Vatche Sahakian    PHYS024\n",
       "2     Timothy Tsai    ENGR156\n",
       "3      Brian Shuve    PHYS024"
      ]
     },
     "execution_count": 4,
     "metadata": {},
     "output_type": "execute_result"
    }
   ],
   "source": [
    "df2.head()"
   ]
  },
  {
   "cell_type": "markdown",
   "id": "5e97855d",
   "metadata": {},
   "source": [
    "Let's merge the two dataframes"
   ]
  },
  {
   "cell_type": "code",
   "execution_count": 5,
   "id": "92d54a5c",
   "metadata": {},
   "outputs": [
    {
     "data": {
      "text/html": [
       "<div>\n",
       "<style scoped>\n",
       "    .dataframe tbody tr th:only-of-type {\n",
       "        vertical-align: middle;\n",
       "    }\n",
       "\n",
       "    .dataframe tbody tr th {\n",
       "        vertical-align: top;\n",
       "    }\n",
       "\n",
       "    .dataframe thead th {\n",
       "        text-align: right;\n",
       "    }\n",
       "</style>\n",
       "<table border=\"1\" class=\"dataframe\">\n",
       "  <thead>\n",
       "    <tr style=\"text-align: right;\">\n",
       "      <th></th>\n",
       "      <th>Professor</th>\n",
       "      <th>CourseCode</th>\n",
       "      <th>CourseName</th>\n",
       "    </tr>\n",
       "  </thead>\n",
       "  <tbody>\n",
       "    <tr>\n",
       "      <th>0</th>\n",
       "      <td>Zachary Dodds</td>\n",
       "      <td>CSCI35</td>\n",
       "      <td>Computer Science for Insight</td>\n",
       "    </tr>\n",
       "    <tr>\n",
       "      <th>1</th>\n",
       "      <td>Vatche Sahakian</td>\n",
       "      <td>PHYS024</td>\n",
       "      <td>Mechanics and Wave Motion</td>\n",
       "    </tr>\n",
       "    <tr>\n",
       "      <th>2</th>\n",
       "      <td>Brian Shuve</td>\n",
       "      <td>PHYS024</td>\n",
       "      <td>Mechanics and Wave Motion</td>\n",
       "    </tr>\n",
       "    <tr>\n",
       "      <th>3</th>\n",
       "      <td>Timothy Tsai</td>\n",
       "      <td>ENGR156</td>\n",
       "      <td>Intro to Comm &amp; Info Theory</td>\n",
       "    </tr>\n",
       "  </tbody>\n",
       "</table>\n",
       "</div>"
      ],
      "text/plain": [
       "         Professor CourseCode                    CourseName\n",
       "0    Zachary Dodds     CSCI35  Computer Science for Insight\n",
       "1  Vatche Sahakian    PHYS024     Mechanics and Wave Motion\n",
       "2      Brian Shuve    PHYS024     Mechanics and Wave Motion\n",
       "3     Timothy Tsai    ENGR156   Intro to Comm & Info Theory"
      ]
     },
     "execution_count": 5,
     "metadata": {},
     "output_type": "execute_result"
    }
   ],
   "source": [
    "pd.merge(df2, df1)"
   ]
  },
  {
   "cell_type": "markdown",
   "id": "e5e7271b",
   "metadata": {},
   "source": [
    "Please refer to the documents [here](https://pandas.pydata.org/pandas-docs/stable/reference/api/pandas.DataFrame.merge.html) and [here](https://pandas.pydata.org/pandas-docs/stable/user_guide/merging.html) to better grasp how and when to use `merge()` function. "
   ]
  },
  {
   "cell_type": "markdown",
   "id": "bc3d9f38",
   "metadata": {},
   "source": [
    "---\n",
    "#### Merging dataframes from [Instacart Market Basket Analysis](https://www.kaggle.com/c/instacart-market-basket-analysis/overview) dataset:\n",
    "Our next dataset is taken from a [competition](https://www.kaggle.com/c/instacart-market-basket-analysis/overview) hosted by Instacard on Kaggle platform. The dataset contains information about products in its grocery stores given in four files. Please see [here](https://www.kaggle.com/c/instacart-market-basket-analysis/data) for more information.\n",
    "We load the four files into separate dataframes:   \n",
    "`aisles.csv`   \n",
    "`departments.csv`  \n",
    "`products.csv`  \n",
    "`order_products__train.csv`"
   ]
  },
  {
   "cell_type": "code",
   "execution_count": 1,
   "id": "8c2a2c17",
   "metadata": {},
   "outputs": [
    {
     "name": "stdout",
     "output_type": "stream",
     "text": [
      "Intel MKL WARNING: Support of Intel(R) Streaming SIMD Extensions 4.2 (Intel(R) SSE4.2) enabled only processors has been deprecated. Intel oneAPI Math Kernel Library 2025.0 will require Intel(R) Advanced Vector Extensions (Intel(R) AVX) instructions.\n",
      "Intel MKL WARNING: Support of Intel(R) Streaming SIMD Extensions 4.2 (Intel(R) SSE4.2) enabled only processors has been deprecated. Intel oneAPI Math Kernel Library 2025.0 will require Intel(R) Advanced Vector Extensions (Intel(R) AVX) instructions.\n"
     ]
    }
   ],
   "source": [
    "import numpy as np\n",
    "import pandas as pd\n",
    "dfa = pd.read_csv('https://raw.githubusercontent.com/AashitaK/datasets/main/instacart-market-basket-analysis/aisles.csv')\n",
    "dfd = pd.read_csv('https://raw.githubusercontent.com/AashitaK/datasets/main/instacart-market-basket-analysis/departments.csv')\n",
    "dfp = pd.read_csv('https://raw.githubusercontent.com/AashitaK/datasets/main/instacart-market-basket-analysis/products.csv')\n",
    "dfo = pd.read_csv('https://raw.githubusercontent.com/AashitaK/datasets/main/instacart-market-basket-analysis/order_products__train.csv')"
   ]
  },
  {
   "cell_type": "markdown",
   "id": "e9bc5874",
   "metadata": {},
   "source": [
    "Familiarize yourself with the dataframes. Hint: Use [`head()`](https://pandas.pydata.org/pandas-docs/stable/reference/api/pandas.DataFrame.head.html).  \n",
    "Note: You might want to add the code cells. This can be done in two ways:\n",
    "1. Using the keyboard shortcuts: \n",
    "    1. First press `Esc` key to enter the command mode.\n",
    "    2. Add cell above using `A` or below using `B`.\n",
    "    3. Exit by pressing `Enter/Return` key.\n",
    "2. Using `Insert` tab in the top bar of the notebook and then `Insert Cell Above` or `Insert Cell Below`.\n"
   ]
  },
  {
   "cell_type": "code",
   "execution_count": null,
   "id": "62c18e02",
   "metadata": {},
   "outputs": [],
   "source": []
  },
  {
   "cell_type": "markdown",
   "id": "a265019c",
   "metadata": {},
   "source": [
    "**Goal: Get a dataframe consisting of the name of the products along with their aisle names and department names for the order with `order_id` equal to 1.**  \n",
    "This dataframe must have ***8 rows and only three columns:\n",
    "```'product_name', 'aisle', 'department'```***"
   ]
  },
  {
   "cell_type": "markdown",
   "id": "591f7918",
   "metadata": {},
   "source": [
    "First slice out 8 rows from the order_products dataframe that corresponds with `order_id` equal to 1 and save it in a new dataframe `df`. Hint: Use conditional on indexing as seen above."
   ]
  },
  {
   "cell_type": "code",
   "execution_count": null,
   "id": "1079fa37",
   "metadata": {},
   "outputs": [],
   "source": []
  },
  {
   "cell_type": "markdown",
   "id": "a77ed182",
   "metadata": {},
   "source": [
    "Let us have a peek into the dataframe `df`."
   ]
  },
  {
   "cell_type": "code",
   "execution_count": null,
   "id": "7028957c",
   "metadata": {},
   "outputs": [],
   "source": [
    "df"
   ]
  },
  {
   "cell_type": "markdown",
   "id": "4a938ffb",
   "metadata": {},
   "source": [
    "The dataframe `df` has a column named `product_id`. So, we can merge it with the dataframe `dfp` to get `product_name`."
   ]
  },
  {
   "cell_type": "code",
   "execution_count": null,
   "id": "f77aa759",
   "metadata": {},
   "outputs": [],
   "source": [
    "dfp.head()"
   ]
  },
  {
   "cell_type": "markdown",
   "id": "02226821",
   "metadata": {},
   "source": [
    "Merge the dataframes `df` and `dfp` using [`merge()`](https://pandas.pydata.org/pandas-docs/stable/reference/api/pandas.DataFrame.merge.html) and save the result back to `df`."
   ]
  },
  {
   "cell_type": "code",
   "execution_count": null,
   "id": "9e6a15cf",
   "metadata": {},
   "outputs": [],
   "source": []
  },
  {
   "cell_type": "markdown",
   "id": "8bda6a18",
   "metadata": {},
   "source": [
    "Let us check whether the new columns are added to the dataframe `df`."
   ]
  },
  {
   "cell_type": "code",
   "execution_count": null,
   "id": "76da62ba",
   "metadata": {},
   "outputs": [],
   "source": [
    "df"
   ]
  },
  {
   "cell_type": "markdown",
   "id": "4149bd86",
   "metadata": {},
   "source": [
    "Now, we have new columns `aisle_id` and `department_id`. Let us first merge `dfa` with this dataframe to get the column `aisle`."
   ]
  },
  {
   "cell_type": "code",
   "execution_count": null,
   "id": "75aa7c94",
   "metadata": {},
   "outputs": [],
   "source": []
  },
  {
   "cell_type": "markdown",
   "id": "961d316e",
   "metadata": {},
   "source": [
    "Let us check our dataframe `df` again. It should reflect the changes we attempted."
   ]
  },
  {
   "cell_type": "code",
   "execution_count": null,
   "id": "b54041d5",
   "metadata": {},
   "outputs": [],
   "source": [
    "df"
   ]
  },
  {
   "cell_type": "markdown",
   "id": "cdf9d5af",
   "metadata": {},
   "source": [
    "Now it should have the column `aisle`. Let us now merge `dfd` with this dataframe to get the column `department`."
   ]
  },
  {
   "cell_type": "code",
   "execution_count": null,
   "id": "63d26f25",
   "metadata": {},
   "outputs": [],
   "source": []
  },
  {
   "cell_type": "markdown",
   "id": "d4bc372e",
   "metadata": {},
   "source": [
    "Let us check the dataframe `df` again. "
   ]
  },
  {
   "cell_type": "code",
   "execution_count": null,
   "id": "8c7af21b",
   "metadata": {},
   "outputs": [],
   "source": [
    "df"
   ]
  },
  {
   "cell_type": "markdown",
   "id": "ee5d57b6",
   "metadata": {},
   "source": [
    "Finally, we only select 3 columns: `'product_name', 'aisle', 'department'`. Hint: Use indexing with the list of columns as seen above."
   ]
  },
  {
   "cell_type": "code",
   "execution_count": null,
   "id": "d20045e4",
   "metadata": {},
   "outputs": [],
   "source": []
  },
  {
   "cell_type": "markdown",
   "id": "4c37f0ad",
   "metadata": {},
   "source": [
    "Let us check the dataframe `df` again."
   ]
  },
  {
   "cell_type": "code",
   "execution_count": null,
   "id": "a7aad96a",
   "metadata": {},
   "outputs": [],
   "source": [
    "df"
   ]
  },
  {
   "cell_type": "markdown",
   "id": "0b10491c",
   "metadata": {},
   "source": [
    "Let us check the shape of th dataframe `df`."
   ]
  },
  {
   "cell_type": "code",
   "execution_count": null,
   "id": "7e8cf446",
   "metadata": {},
   "outputs": [],
   "source": [
    "df.shape"
   ]
  },
  {
   "cell_type": "markdown",
   "id": "ca7b84fa",
   "metadata": {},
   "source": [
    "The output should be `(8, 3)`. Please check your code above if you get something else."
   ]
  },
  {
   "cell_type": "markdown",
   "id": "f1864a33",
   "metadata": {},
   "source": [
    "#### Acknowledgment:\n",
    "* [Instacart Market Basket Analysis](https://www.kaggle.com/c/instacart-market-basket-analysis/data) dataset openly available in Kaggle is used in the exercises."
   ]
  }
 ],
 "metadata": {
  "kernelspec": {
   "display_name": "Python 3 (ipykernel)",
   "language": "python",
   "name": "python3"
  },
  "language_info": {
   "codemirror_mode": {
    "name": "ipython",
    "version": 3
   },
   "file_extension": ".py",
   "mimetype": "text/x-python",
   "name": "python",
   "nbconvert_exporter": "python",
   "pygments_lexer": "ipython3",
   "version": "3.10.9"
  }
 },
 "nbformat": 4,
 "nbformat_minor": 5
}
